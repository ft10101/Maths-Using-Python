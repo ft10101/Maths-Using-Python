{
  "nbformat": 4,
  "nbformat_minor": 0,
  "metadata": {
    "colab": {
      "provenance": [],
      "authorship_tag": "ABX9TyNWfjC0uZFiQNIVdzdjTlcm",
      "include_colab_link": true
    },
    "kernelspec": {
      "name": "python3",
      "display_name": "Python 3"
    },
    "language_info": {
      "name": "python"
    }
  },
  "cells": [
    {
      "cell_type": "markdown",
      "metadata": {
        "id": "view-in-github",
        "colab_type": "text"
      },
      "source": [
        "<a href=\"https://colab.research.google.com/github/ft10101/maths-using-python/blob/main/Advance_Math_in_Python.ipynb\" target=\"_parent\"><img src=\"https://colab.research.google.com/assets/colab-badge.svg\" alt=\"Open In Colab\"/></a>"
      ]
    },
    {
      "cell_type": "code",
      "execution_count": null,
      "metadata": {
        "id": "pNGNTGKI0OVI"
      },
      "outputs": [],
      "source": [
        "import numpy as np\n",
        "import scipy as sp #numerically solving integrals if cant find analytic solutions\n",
        "import sympy as smp #finding analytic solutions if they do exist\n",
        "import matplotlib.pyplot as plt\n",
        "from scipy.integrate import quad\n",
        "from scipy.integrate import cumulative_trapezoid"
      ]
    },
    {
      "cell_type": "markdown",
      "source": [
        "# **Symbolic  Case**\n",
        "\n",
        "## You know the formula explicitly <br>\n",
        "##         f(x) = .. <br>\n",
        "<h4>\n",
        "In this case there are two options:<br>\n",
        "1. The integral can be solved analytically ∫f(x)dx = Something you can write down <br>\n",
        "2. The integral cannot be solved analytically\n",
        "</h4>"
      ],
      "metadata": {
        "id": "HP1V3rusOEFi"
      }
    },
    {
      "cell_type": "markdown",
      "source": [
        "# **Part 1: \"Solvable\" integrals**\n",
        "\n",
        "## **Example 1:** Find ∫ sin^3(x)e^-5x dx"
      ],
      "metadata": {
        "id": "5pILQIyKQH88"
      }
    },
    {
      "cell_type": "code",
      "source": [
        "x = smp.symbols('x', real=True)\n",
        "x"
      ],
      "metadata": {
        "colab": {
          "base_uri": "https://localhost:8080/",
          "height": 38
        },
        "id": "wwFtV6FJRAf6",
        "outputId": "0d558a48-1097-4d21-d145-9d261ffff213"
      },
      "execution_count": null,
      "outputs": [
        {
          "output_type": "execute_result",
          "data": {
            "text/plain": [
              "x"
            ],
            "text/latex": "$\\displaystyle x$"
          },
          "metadata": {},
          "execution_count": 30
        }
      ]
    },
    {
      "cell_type": "code",
      "source": [
        "f = smp.sin(x)**3 * smp.exp(-5*x)\n",
        "f"
      ],
      "metadata": {
        "colab": {
          "base_uri": "https://localhost:8080/",
          "height": 38
        },
        "id": "TeIl8cUtRlqC",
        "outputId": "9e38b897-1807-4c6c-a3b1-ec8a77f7baae"
      },
      "execution_count": null,
      "outputs": [
        {
          "output_type": "execute_result",
          "data": {
            "text/plain": [
              "exp(-5*x)*sin(x)**3"
            ],
            "text/latex": "$\\displaystyle e^{- 5 x} \\sin^{3}{\\left(x \\right)}$"
          },
          "metadata": {},
          "execution_count": 31
        }
      ]
    },
    {
      "cell_type": "code",
      "source": [
        "smp.integrate(f, x)"
      ],
      "metadata": {
        "colab": {
          "base_uri": "https://localhost:8080/",
          "height": 55
        },
        "id": "ylJzGsg1ULyh",
        "outputId": "819ba4f9-99bd-433c-d3d2-7d1f3bf2254d"
      },
      "execution_count": null,
      "outputs": [
        {
          "output_type": "execute_result",
          "data": {
            "text/plain": [
              "-40*exp(-5*x)*sin(x)**3/221 - 21*exp(-5*x)*sin(x)**2*cos(x)/221 - 15*exp(-5*x)*sin(x)*cos(x)**2/442 - 3*exp(-5*x)*cos(x)**3/442"
            ],
            "text/latex": "$\\displaystyle - \\frac{40 e^{- 5 x} \\sin^{3}{\\left(x \\right)}}{221} - \\frac{21 e^{- 5 x} \\sin^{2}{\\left(x \\right)} \\cos{\\left(x \\right)}}{221} - \\frac{15 e^{- 5 x} \\sin{\\left(x \\right)} \\cos^{2}{\\left(x \\right)}}{442} - \\frac{3 e^{- 5 x} \\cos^{3}{\\left(x \\right)}}{442}$"
          },
          "metadata": {},
          "execution_count": 11
        }
      ]
    },
    {
      "cell_type": "markdown",
      "source": [
        "## **Example 2:** Find  ∫ cos(bx)e^-ax dx"
      ],
      "metadata": {
        "id": "FeUMedoCV0pr"
      }
    },
    {
      "cell_type": "code",
      "source": [
        "a, b = smp.symbols('a b', real=True, positive=True)\n",
        "a,b"
      ],
      "metadata": {
        "colab": {
          "base_uri": "https://localhost:8080/"
        },
        "id": "AJdaDNvYVFkw",
        "outputId": "27cee9f2-fbbf-449a-f516-1d7f4be79a6a"
      },
      "execution_count": null,
      "outputs": [
        {
          "output_type": "execute_result",
          "data": {
            "text/plain": [
              "(a, b)"
            ]
          },
          "metadata": {},
          "execution_count": 34
        }
      ]
    },
    {
      "cell_type": "code",
      "source": [
        "f = smp.cos(b*x)*smp.exp(-a*x)\n",
        "f"
      ],
      "metadata": {
        "colab": {
          "base_uri": "https://localhost:8080/",
          "height": 38
        },
        "id": "z588kQsg8tXC",
        "outputId": "36a40e95-1d20-43b5-c4bb-952d09bb2f9f"
      },
      "execution_count": null,
      "outputs": [
        {
          "output_type": "execute_result",
          "data": {
            "text/plain": [
              "exp(-a*x)*cos(b*x)"
            ],
            "text/latex": "$\\displaystyle e^{- a x} \\cos{\\left(b x \\right)}$"
          },
          "metadata": {},
          "execution_count": 32
        }
      ]
    },
    {
      "cell_type": "code",
      "source": [
        "smp.integrate(f,x).simplify()"
      ],
      "metadata": {
        "colab": {
          "base_uri": "https://localhost:8080/",
          "height": 55
        },
        "id": "jOuWxtm4WlY_",
        "outputId": "0a816dc9-6bf7-4006-922a-4b6051275929"
      },
      "execution_count": null,
      "outputs": [
        {
          "output_type": "execute_result",
          "data": {
            "text/plain": [
              "(-a*cos(b*x) + b*sin(b*x))*exp(-a*x)/(a**2 + b**2)"
            ],
            "text/latex": "$\\displaystyle \\frac{\\left(- a \\cos{\\left(b x \\right)} + b \\sin{\\left(b x \\right)}\\right) e^{- a x}}{a^{2} + b^{2}}$"
          },
          "metadata": {},
          "execution_count": 14
        }
      ]
    },
    {
      "cell_type": "markdown",
      "source": [
        "## **Example 3:** Find  ∫ ((1+√x)^1/3)/√x dx"
      ],
      "metadata": {
        "id": "aymaGtSPYvaY"
      }
    },
    {
      "cell_type": "code",
      "source": [
        "f = (1+smp.sqrt(x))**smp.Rational(1,3)/smp.sqrt(x)\n",
        "f"
      ],
      "metadata": {
        "colab": {
          "base_uri": "https://localhost:8080/",
          "height": 61
        },
        "id": "97jR7wIoYNje",
        "outputId": "d4f0052c-74cd-4da0-d2da-29f0eaa2e7b1"
      },
      "execution_count": null,
      "outputs": [
        {
          "output_type": "execute_result",
          "data": {
            "text/plain": [
              "(sqrt(x) + 1)**(1/3)/sqrt(x)"
            ],
            "text/latex": "$\\displaystyle \\frac{\\sqrt[3]{\\sqrt{x} + 1}}{\\sqrt{x}}$"
          },
          "metadata": {},
          "execution_count": 28
        }
      ]
    },
    {
      "cell_type": "code",
      "source": [
        "smp.integrate(f,x).simplify()"
      ],
      "metadata": {
        "colab": {
          "base_uri": "https://localhost:8080/",
          "height": 59
        },
        "id": "mMt1desXaD2P",
        "outputId": "e12a97bd-0ca7-4c5c-d665-8bda3caa1454"
      },
      "execution_count": null,
      "outputs": [
        {
          "output_type": "execute_result",
          "data": {
            "text/plain": [
              "3*(sqrt(x) + 1)**(4/3)/2"
            ],
            "text/latex": "$\\displaystyle \\frac{3 \\left(\\sqrt{x} + 1\\right)^{\\frac{4}{3}}}{2}$"
          },
          "metadata": {},
          "execution_count": 17
        }
      ]
    },
    {
      "cell_type": "markdown",
      "source": [
        "## **Example 4:** (Definite) Find ∫ 0 to ln(4) e^x/√(e^2x +9) dx"
      ],
      "metadata": {
        "id": "4csdht9IgsYS"
      }
    },
    {
      "cell_type": "code",
      "source": [
        "f = smp.exp(x)/smp.sqrt(smp.exp(2*x) + 9)\n",
        "f"
      ],
      "metadata": {
        "colab": {
          "base_uri": "https://localhost:8080/",
          "height": 55
        },
        "id": "DA90d-xmcDbx",
        "outputId": "2c12641d-e5ed-4a55-9b78-cdc24ca84d9c"
      },
      "execution_count": null,
      "outputs": [
        {
          "output_type": "execute_result",
          "data": {
            "text/plain": [
              "exp(x)/sqrt(exp(2*x) + 9)"
            ],
            "text/latex": "$\\displaystyle \\frac{e^{x}}{\\sqrt{e^{2 x} + 9}}$"
          },
          "metadata": {},
          "execution_count": 26
        }
      ]
    },
    {
      "cell_type": "code",
      "source": [
        "smp.integrate(f, (x,0, smp.log(4)))\n",
        "#smp.integrate(f, (x,0, smp.log(4))).evalf() # for getting exact float number"
      ],
      "metadata": {
        "colab": {
          "base_uri": "https://localhost:8080/",
          "height": 58
        },
        "id": "a3OAv05W8Pxv",
        "outputId": "39839987-037b-476f-a107-dd6b6ac7c21c"
      },
      "execution_count": null,
      "outputs": [
        {
          "output_type": "execute_result",
          "data": {
            "text/plain": [
              "-asinh(1/3) + asinh(4/3)"
            ],
            "text/latex": "$\\displaystyle - \\operatorname{asinh}{\\left(\\frac{1}{3} \\right)} + \\operatorname{asinh}{\\left(\\frac{4}{3} \\right)}$"
          },
          "metadata": {},
          "execution_count": 27
        }
      ]
    },
    {
      "cell_type": "markdown",
      "source": [
        "## **Example 5:** (Improper) Find ∫ 0 to infinity  16tan^-1(x)/1+x^2 dx"
      ],
      "metadata": {
        "id": "Xd096e2f3rCn"
      }
    },
    {
      "cell_type": "code",
      "source": [
        " f = 16*smp.atan(x)/(1+x**2)\n",
        " f"
      ],
      "metadata": {
        "colab": {
          "base_uri": "https://localhost:8080/",
          "height": 54
        },
        "id": "wt5s4Zzihz6l",
        "outputId": "fa3c32c1-2e1b-4558-8b15-940bfd3775d6"
      },
      "execution_count": null,
      "outputs": [
        {
          "output_type": "execute_result",
          "data": {
            "text/plain": [
              "16*atan(x)/(x**2 + 1)"
            ],
            "text/latex": "$\\displaystyle \\frac{16 \\operatorname{atan}{\\left(x \\right)}}{x^{2} + 1}$"
          },
          "metadata": {},
          "execution_count": 24
        }
      ]
    },
    {
      "cell_type": "code",
      "source": [
        "smp.integrate(f, (x,0, smp.oo))"
      ],
      "metadata": {
        "colab": {
          "base_uri": "https://localhost:8080/",
          "height": 38
        },
        "id": "vNqJ6EuB7kbP",
        "outputId": "d1fb9211-8315-4dc0-c2dd-a1b347c90bd5"
      },
      "execution_count": null,
      "outputs": [
        {
          "output_type": "execute_result",
          "data": {
            "text/plain": [
              "2*pi**2"
            ],
            "text/latex": "$\\displaystyle 2 \\pi^{2}$"
          },
          "metadata": {},
          "execution_count": 25
        }
      ]
    }
  ]
}