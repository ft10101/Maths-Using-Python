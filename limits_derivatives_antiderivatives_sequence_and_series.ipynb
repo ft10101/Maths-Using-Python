{
  "cells": [
    {
      "cell_type": "markdown",
      "metadata": {
        "id": "view-in-github",
        "colab_type": "text"
      },
      "source": [
        "<a href=\"https://colab.research.google.com/github/ft10101/Maths-Using-Python/blob/main/limits_derivatives_antiderivatives_sequence_and_series.ipynb\" target=\"_parent\"><img src=\"https://colab.research.google.com/assets/colab-badge.svg\" alt=\"Open In Colab\"/></a>"
      ]
    },
    {
      "cell_type": "code",
      "execution_count": 1,
      "metadata": {
        "id": "NotDUGqsrvoh"
      },
      "outputs": [],
      "source": [
        "import sympy as smp\n",
        "from sympy import *"
      ]
    },
    {
      "cell_type": "code",
      "execution_count": 2,
      "metadata": {
        "id": "IxlFk626rvop"
      },
      "outputs": [],
      "source": [
        "x, y = smp.symbols('x y')"
      ]
    },
    {
      "cell_type": "markdown",
      "metadata": {
        "id": "83oHRItkrvos"
      },
      "source": [
        "# Limits"
      ]
    },
    {
      "cell_type": "markdown",
      "metadata": {
        "id": "FF83Eln6rvoy"
      },
      "source": [
        "$$\\lim_{x \\to \\pi} \\sin(x/2+ \\sin(x))$$"
      ]
    },
    {
      "cell_type": "code",
      "execution_count": 3,
      "metadata": {
        "colab": {
          "base_uri": "https://localhost:8080/",
          "height": 37
        },
        "id": "kimXXSQIrvo0",
        "outputId": "0d20a82b-cd11-419e-ac91-baa7a5a71394"
      },
      "outputs": [
        {
          "output_type": "execute_result",
          "data": {
            "text/plain": [
              "1"
            ],
            "text/latex": "$\\displaystyle 1$"
          },
          "metadata": {},
          "execution_count": 3
        }
      ],
      "source": [
        "smp.limit(smp.sin(x/2 + smp.sin(x)), x, smp.pi)"
      ]
    },
    {
      "cell_type": "markdown",
      "metadata": {
        "id": "z7vNfHnervo4"
      },
      "source": [
        "$$ \\lim_{x \\to 0^+} \\frac{2e^{1/x}}{e^{1/x}+1} $$"
      ]
    },
    {
      "cell_type": "code",
      "execution_count": 4,
      "metadata": {
        "colab": {
          "base_uri": "https://localhost:8080/",
          "height": 37
        },
        "id": "aUsK27k2rvo7",
        "outputId": "31e2e7d3-1f19-4fb8-e7c5-10e2a050481b"
      },
      "outputs": [
        {
          "output_type": "execute_result",
          "data": {
            "text/plain": [
              "2"
            ],
            "text/latex": "$\\displaystyle 2$"
          },
          "metadata": {},
          "execution_count": 4
        }
      ],
      "source": [
        "smp.limit(2*smp.exp(1/x) / (smp.exp(1/x)+1), x, 0, dir='+')"
      ]
    },
    {
      "cell_type": "markdown",
      "metadata": {
        "id": "2khWS2pGrvo_"
      },
      "source": [
        "$$ \\lim_{x \\to 0^-} \\frac{2e^{1/x}}{e^{1/x}+1} $$"
      ]
    },
    {
      "cell_type": "code",
      "execution_count": 5,
      "metadata": {
        "colab": {
          "base_uri": "https://localhost:8080/",
          "height": 37
        },
        "id": "_1HLiECqrvpC",
        "outputId": "cff42120-f8ab-46da-cc07-7fafba06f3fb"
      },
      "outputs": [
        {
          "output_type": "execute_result",
          "data": {
            "text/plain": [
              "0"
            ],
            "text/latex": "$\\displaystyle 0$"
          },
          "metadata": {},
          "execution_count": 5
        }
      ],
      "source": [
        "smp.limit(2*smp.exp(1/x) / (smp.exp(1/x)+1), x, 0, dir='-')"
      ]
    },
    {
      "cell_type": "markdown",
      "metadata": {
        "id": "ur1-tNH8rvpH"
      },
      "source": [
        "$$ \\lim_{x \\to \\infty} \\frac{\\cos(x)-1}{x} $$"
      ]
    },
    {
      "cell_type": "code",
      "execution_count": 6,
      "metadata": {
        "colab": {
          "base_uri": "https://localhost:8080/",
          "height": 37
        },
        "id": "2dcMuziWrvpJ",
        "outputId": "7dfad2c3-ba1d-49b1-db60-267023eb2b97"
      },
      "outputs": [
        {
          "output_type": "execute_result",
          "data": {
            "text/plain": [
              "0"
            ],
            "text/latex": "$\\displaystyle 0$"
          },
          "metadata": {},
          "execution_count": 6
        }
      ],
      "source": [
        "smp.limit((smp.cos(x) - 1)/x, x, smp.oo)"
      ]
    },
    {
      "cell_type": "markdown",
      "metadata": {
        "id": "qG-hqlwErvpN"
      },
      "source": [
        "# Derivatives"
      ]
    },
    {
      "cell_type": "markdown",
      "metadata": {
        "id": "G6h55WaXrvpP"
      },
      "source": [
        "$$ \\frac{d}{dx} \\left( \\frac{1+\\sin x}{1 - \\cos x} \\right)^2 $$"
      ]
    },
    {
      "cell_type": "code",
      "execution_count": 7,
      "metadata": {
        "colab": {
          "base_uri": "https://localhost:8080/",
          "height": 63
        },
        "id": "x2eTl6X9rvpP",
        "outputId": "02d3b093-5783-4165-c936-50cc55bdf95e"
      },
      "outputs": [
        {
          "output_type": "execute_result",
          "data": {
            "text/plain": [
              "2*(sin(x) + 1)*cos(x)/(1 - cos(x))**2 - 2*(sin(x) + 1)**2*sin(x)/(1 - cos(x))**3"
            ],
            "text/latex": "$\\displaystyle \\frac{2 \\left(\\sin{\\left(x \\right)} + 1\\right) \\cos{\\left(x \\right)}}{\\left(1 - \\cos{\\left(x \\right)}\\right)^{2}} - \\frac{2 \\left(\\sin{\\left(x \\right)} + 1\\right)^{2} \\sin{\\left(x \\right)}}{\\left(1 - \\cos{\\left(x \\right)}\\right)^{3}}$"
          },
          "metadata": {},
          "execution_count": 7
        }
      ],
      "source": [
        "smp.diff(((1 + smp.sin(x)) / (1 - smp.cos(x)))**2, x)"
      ]
    },
    {
      "cell_type": "markdown",
      "metadata": {
        "id": "60TmjlJ7rvpR"
      },
      "source": [
        "$$ \\frac{d}{dx} (\\log_5 (x))^{x/2}$$"
      ]
    },
    {
      "cell_type": "code",
      "execution_count": 8,
      "metadata": {
        "colab": {
          "base_uri": "https://localhost:8080/",
          "height": 81
        },
        "id": "DgycsYd7rvpS",
        "outputId": "ba170bde-a538-4a08-d407-ab4971c9230c"
      },
      "outputs": [
        {
          "output_type": "execute_result",
          "data": {
            "text/plain": [
              "(log(x)/log(5))**(x/2)*(log(log(x)/log(5))/2 + 1/(2*log(x)))"
            ],
            "text/latex": "$\\displaystyle \\left(\\frac{\\log{\\left(x \\right)}}{\\log{\\left(5 \\right)}}\\right)^{\\frac{x}{2}} \\left(\\frac{\\log{\\left(\\frac{\\log{\\left(x \\right)}}{\\log{\\left(5 \\right)}} \\right)}}{2} + \\frac{1}{2 \\log{\\left(x \\right)}}\\right)$"
          },
          "metadata": {},
          "execution_count": 8
        }
      ],
      "source": [
        "smp.diff(smp.log(x, 5)**(x/2), x)"
      ]
    },
    {
      "cell_type": "markdown",
      "metadata": {
        "id": "3CHKKd6wrvpT"
      },
      "source": [
        "$$\\frac{d}{dx} f(x+g(x)) $$"
      ]
    },
    {
      "cell_type": "code",
      "execution_count": 9,
      "metadata": {
        "id": "wEmU6KMkrvpU"
      },
      "outputs": [],
      "source": [
        "f, g = smp.symbols('f g', cls=smp.Function)\n",
        "g = g(x)\n",
        "f = f(x+g)"
      ]
    },
    {
      "cell_type": "code",
      "execution_count": 10,
      "metadata": {
        "colab": {
          "base_uri": "https://localhost:8080/",
          "height": 62
        },
        "id": "PoofX5wbrvpV",
        "outputId": "e3a108d5-1b16-4029-b717-af5c30945868"
      },
      "outputs": [
        {
          "output_type": "execute_result",
          "data": {
            "text/plain": [
              "(Derivative(g(x), x) + 1)*Subs(Derivative(f(_xi_1), _xi_1), _xi_1, x + g(x))"
            ],
            "text/latex": "$\\displaystyle \\left(\\frac{d}{d x} g{\\left(x \\right)} + 1\\right) \\left. \\frac{d}{d \\xi_{1}} f{\\left(\\xi_{1} \\right)} \\right|_{\\substack{ \\xi_{1}=x + g{\\left(x \\right)} }}$"
          },
          "metadata": {},
          "execution_count": 10
        }
      ],
      "source": [
        "smp.diff(f,x)"
      ]
    },
    {
      "cell_type": "markdown",
      "metadata": {
        "id": "z0cPIUc9rvpX"
      },
      "source": [
        "# Basic Antiderivatives"
      ]
    },
    {
      "cell_type": "markdown",
      "metadata": {
        "id": "Bw8QQDaarvpX"
      },
      "source": [
        "$$ \\int \\csc(x) \\cot (x)  dx $$"
      ]
    },
    {
      "cell_type": "code",
      "execution_count": 11,
      "metadata": {
        "colab": {
          "base_uri": "https://localhost:8080/",
          "height": 55
        },
        "id": "xckFjLGPrvpY",
        "outputId": "0c351bf8-788a-4f74-fc18-b09481d1290f"
      },
      "outputs": [
        {
          "output_type": "execute_result",
          "data": {
            "text/plain": [
              "-1/sin(x)"
            ],
            "text/latex": "$\\displaystyle - \\frac{1}{\\sin{\\left(x \\right)}}$"
          },
          "metadata": {},
          "execution_count": 11
        }
      ],
      "source": [
        "smp.integrate(smp.csc(x)*smp.cot(x), x)"
      ]
    },
    {
      "cell_type": "markdown",
      "metadata": {
        "id": "eqUZ7DNbrvpZ"
      },
      "source": [
        "$$ \\int 4 \\sec (3x) \\tan(3x)dx $$"
      ]
    },
    {
      "cell_type": "code",
      "execution_count": 12,
      "metadata": {
        "colab": {
          "base_uri": "https://localhost:8080/",
          "height": 55
        },
        "id": "8opEY7iPrvpZ",
        "outputId": "9ec6a47f-bcd3-4991-cba9-b02f023be3e6"
      },
      "outputs": [
        {
          "output_type": "execute_result",
          "data": {
            "text/plain": [
              "4/(3*cos(3*x))"
            ],
            "text/latex": "$\\displaystyle \\frac{4}{3 \\cos{\\left(3 x \\right)}}$"
          },
          "metadata": {},
          "execution_count": 12
        }
      ],
      "source": [
        "smp.integrate(4*smp.sec(3*x)*smp.tan(3*x), x)"
      ]
    },
    {
      "cell_type": "markdown",
      "metadata": {
        "id": "UUGzvUCJrvpa"
      },
      "source": [
        "$$ \\int \\left( \\frac{2}{\\sqrt{1-x^2}} - \\frac{1}{x^{1/4}}\\right) dx$$"
      ]
    },
    {
      "cell_type": "code",
      "execution_count": 13,
      "metadata": {
        "colab": {
          "base_uri": "https://localhost:8080/",
          "height": 56
        },
        "id": "5AANBlkarvpa",
        "outputId": "b841dc0b-2bce-40ae-c0ec-79a987958d97"
      },
      "outputs": [
        {
          "output_type": "execute_result",
          "data": {
            "text/plain": [
              "-4*x**(3/4)/3 + 2*asin(x)"
            ],
            "text/latex": "$\\displaystyle - \\frac{4 x^{\\frac{3}{4}}}{3} + 2 \\operatorname{asin}{\\left(x \\right)}$"
          },
          "metadata": {},
          "execution_count": 13
        }
      ],
      "source": [
        "smp.integrate(2/smp.sqrt(1-x**2) - 1/x**smp.Rational(1,4), x)"
      ]
    },
    {
      "cell_type": "markdown",
      "metadata": {
        "id": "FW3v58I9rvpb"
      },
      "source": [
        "# Initial Value Problems"
      ]
    },
    {
      "cell_type": "markdown",
      "metadata": {
        "id": "QKUL7pMIrvpc"
      },
      "source": [
        "1. Given $\\frac{dy}{dx} = 8x + \\csc^2(x)$ with $y(\\pi/2) = -7$  solve for $y(x)$"
      ]
    },
    {
      "cell_type": "code",
      "execution_count": 14,
      "metadata": {
        "id": "8DcAA8M4rvpc"
      },
      "outputs": [],
      "source": [
        "integral = smp.integrate(8*x + smp.csc(x)**2, x)"
      ]
    },
    {
      "cell_type": "code",
      "execution_count": 15,
      "metadata": {
        "id": "yXH5hYRprvpd"
      },
      "outputs": [],
      "source": [
        "C = - integral.subs(x, smp.pi/2) - 7\n",
        "y = integral + C"
      ]
    },
    {
      "cell_type": "code",
      "execution_count": 16,
      "metadata": {
        "colab": {
          "base_uri": "https://localhost:8080/",
          "height": 37
        },
        "id": "frfyTQTKrvpd",
        "outputId": "265af141-afdd-4dbc-aeb5-0b58e753abd5"
      },
      "outputs": [
        {
          "output_type": "execute_result",
          "data": {
            "text/plain": [
              "-7"
            ],
            "text/latex": "$\\displaystyle -7$"
          },
          "metadata": {},
          "execution_count": 16
        }
      ],
      "source": [
        "y.subs(x, smp.pi/2)"
      ]
    },
    {
      "cell_type": "code",
      "execution_count": 17,
      "metadata": {
        "colab": {
          "base_uri": "https://localhost:8080/",
          "height": 57
        },
        "id": "gUeXRVz7rvpe",
        "outputId": "b07012a7-9c7d-41ee-9b33-5a4688e7a492"
      },
      "outputs": [
        {
          "output_type": "execute_result",
          "data": {
            "text/plain": [
              "4*x**2 - pi**2 - 7 - cos(x)/sin(x)"
            ],
            "text/latex": "$\\displaystyle 4 x^{2} - \\pi^{2} - 7 - \\frac{\\cos{\\left(x \\right)}}{\\sin{\\left(x \\right)}}$"
          },
          "metadata": {},
          "execution_count": 17
        }
      ],
      "source": [
        "y"
      ]
    },
    {
      "cell_type": "markdown",
      "metadata": {
        "id": "Nuq1Gc5Zrvpf"
      },
      "source": [
        "# More Complicated Expressions"
      ]
    },
    {
      "cell_type": "markdown",
      "metadata": {
        "id": "VB5d9UZtrvpg"
      },
      "source": [
        " $$\\int \\frac{(1+\\sqrt{x})^{1/3}}{\\sqrt{x}} dx$$"
      ]
    },
    {
      "cell_type": "code",
      "execution_count": 18,
      "metadata": {
        "colab": {
          "base_uri": "https://localhost:8080/",
          "height": 56
        },
        "id": "7NnIFcM5rvpg",
        "outputId": "40b2fe0f-5a4b-4c67-e2f7-d14183bcfe93"
      },
      "outputs": [
        {
          "output_type": "execute_result",
          "data": {
            "text/plain": [
              "3*sqrt(x)*(sqrt(x) + 1)**(1/3)/2 + 3*(sqrt(x) + 1)**(1/3)/2"
            ],
            "text/latex": "$\\displaystyle \\frac{3 \\sqrt{x} \\sqrt[3]{\\sqrt{x} + 1}}{2} + \\frac{3 \\sqrt[3]{\\sqrt{x} + 1}}{2}$"
          },
          "metadata": {},
          "execution_count": 18
        }
      ],
      "source": [
        "smp.integrate((1+smp.sqrt(x))**smp.Rational(1,3) / smp.sqrt(x), x)"
      ]
    },
    {
      "cell_type": "markdown",
      "metadata": {
        "id": "70JW7AHxrvpg"
      },
      "source": [
        "$$\\int x (1-x^2)^{1/4} dx$$"
      ]
    },
    {
      "cell_type": "code",
      "execution_count": 19,
      "metadata": {
        "colab": {
          "base_uri": "https://localhost:8080/",
          "height": 56
        },
        "id": "AWUKzsParvph",
        "outputId": "e619adaa-59f7-4801-8e28-417941830cc9"
      },
      "outputs": [
        {
          "output_type": "execute_result",
          "data": {
            "text/plain": [
              "2*x**2*(1 - x**2)**(1/4)/5 - 2*(1 - x**2)**(1/4)/5"
            ],
            "text/latex": "$\\displaystyle \\frac{2 x^{2} \\sqrt[4]{1 - x^{2}}}{5} - \\frac{2 \\sqrt[4]{1 - x^{2}}}{5}$"
          },
          "metadata": {},
          "execution_count": 19
        }
      ],
      "source": [
        "smp.integrate(x*(1-x**2)**smp.Rational(1/4), x)"
      ]
    },
    {
      "cell_type": "markdown",
      "metadata": {
        "id": "ahbWFwlRrvpi"
      },
      "source": [
        "$$ \\int \\frac{(2x-1)\\cos(\\sqrt{3(2x-1)^2+6})}{\\sqrt{3(2x-1)^2+6}} dx $$"
      ]
    },
    {
      "cell_type": "code",
      "execution_count": 20,
      "metadata": {
        "colab": {
          "base_uri": "https://localhost:8080/",
          "height": 76
        },
        "id": "_esAxnIwrvpi",
        "outputId": "59eaa43e-7fc7-45e8-ce25-13510b7180ba"
      },
      "outputs": [
        {
          "output_type": "execute_result",
          "data": {
            "text/plain": [
              "sin(sqrt(3*(2*x - 1)**2 + 6))/6"
            ],
            "text/latex": "$\\displaystyle \\frac{\\sin{\\left(\\sqrt{3 \\left(2 x - 1\\right)^{2} + 6} \\right)}}{6}$"
          },
          "metadata": {},
          "execution_count": 20
        }
      ],
      "source": [
        "smp.integrate((2*x -1)*smp.cos(smp.sqrt(3*(2*x-1)**2 + 6)) / smp.sqrt(3*(2*x-1)**2 + 6), x)"
      ]
    },
    {
      "cell_type": "markdown",
      "metadata": {
        "id": "k9Kskfu-rvpj"
      },
      "source": [
        "# Definite Integrals"
      ]
    },
    {
      "cell_type": "markdown",
      "metadata": {
        "id": "QIiXYEOorvpj"
      },
      "source": [
        "$$\\int_{0}^{\\ln(4)}\\frac{e^x dt}{\\sqrt{e^{2x}+9}} $$"
      ]
    },
    {
      "cell_type": "code",
      "execution_count": 21,
      "metadata": {
        "colab": {
          "base_uri": "https://localhost:8080/",
          "height": 58
        },
        "id": "wZG7M8Zwrvpj",
        "outputId": "36f044ff-99d4-4a62-ef3b-ff49c141df20"
      },
      "outputs": [
        {
          "output_type": "execute_result",
          "data": {
            "text/plain": [
              "-asinh(1/3) + asinh(4/3)"
            ],
            "text/latex": "$\\displaystyle - \\operatorname{asinh}{\\left(\\frac{1}{3} \\right)} + \\operatorname{asinh}{\\left(\\frac{4}{3} \\right)}$"
          },
          "metadata": {},
          "execution_count": 21
        }
      ],
      "source": [
        "smp.integrate(smp.exp(x) / smp.sqrt(smp.exp(2*x) + 9), (x, 0, smp.log(4)))"
      ]
    },
    {
      "cell_type": "markdown",
      "metadata": {
        "id": "fBMLHTtjrvpk"
      },
      "source": [
        "$$\\int_1^t x^{10} e^x dx $$"
      ]
    },
    {
      "cell_type": "code",
      "execution_count": 22,
      "metadata": {
        "id": "Zb3D0mfWrvpk"
      },
      "outputs": [],
      "source": [
        "t= smp.symbols('t')"
      ]
    },
    {
      "cell_type": "code",
      "execution_count": 23,
      "metadata": {
        "colab": {
          "base_uri": "https://localhost:8080/",
          "height": 60
        },
        "id": "IO1jrZxXrvpl",
        "outputId": "6e04dd39-13de-4fba-8e57-1afda437e09a"
      },
      "outputs": [
        {
          "output_type": "execute_result",
          "data": {
            "text/plain": [
              "(t**10 - 10*t**9 + 90*t**8 - 720*t**7 + 5040*t**6 - 30240*t**5 + 151200*t**4 - 604800*t**3 + 1814400*t**2 - 3628800*t + 3628800)*exp(t) - 1334961*E"
            ],
            "text/latex": "$\\displaystyle \\left(t^{10} - 10 t^{9} + 90 t^{8} - 720 t^{7} + 5040 t^{6} - 30240 t^{5} + 151200 t^{4} - 604800 t^{3} + 1814400 t^{2} - 3628800 t + 3628800\\right) e^{t} - 1334961 e$"
          },
          "metadata": {},
          "execution_count": 23
        }
      ],
      "source": [
        "smp.integrate(x**10*smp.exp(x), (x, 1, t))"
      ]
    },
    {
      "cell_type": "markdown",
      "metadata": {
        "id": "GUU8GWm5rvpl"
      },
      "source": [
        "# Improper Integrals"
      ]
    },
    {
      "cell_type": "markdown",
      "metadata": {
        "id": "WSw2Y5E3rvpm"
      },
      "source": [
        "$$ \\int_{0}^{\\infty} \\frac{16 \\tan^{-1}(x)}{1+x^2} dx $$"
      ]
    },
    {
      "cell_type": "code",
      "execution_count": 24,
      "metadata": {
        "colab": {
          "base_uri": "https://localhost:8080/",
          "height": 39
        },
        "id": "Ppx_Vbgyrvpn",
        "outputId": "c850a7c1-d566-45c9-9b2a-cd06d6f20b7f"
      },
      "outputs": [
        {
          "output_type": "execute_result",
          "data": {
            "text/plain": [
              "2*pi**2"
            ],
            "text/latex": "$\\displaystyle 2 \\pi^{2}$"
          },
          "metadata": {},
          "execution_count": 24
        }
      ],
      "source": [
        "smp.integrate(16*smp.atan(x) / (1+x**2), (x, 0, smp.oo))"
      ]
    },
    {
      "cell_type": "markdown",
      "metadata": {
        "id": "W1t8zxawrvpn"
      },
      "source": [
        "# Sequences and Series"
      ]
    },
    {
      "cell_type": "code",
      "execution_count": 25,
      "metadata": {
        "id": "1qvjO4w7rvpo"
      },
      "outputs": [],
      "source": [
        "n = smp.symbols('n')"
      ]
    },
    {
      "cell_type": "markdown",
      "metadata": {
        "id": "mT_Ab5LPrvpo"
      },
      "source": [
        "$$ \\sum_{n=0}^\\infty \\frac{6}{4^n} $$"
      ]
    },
    {
      "cell_type": "code",
      "execution_count": 26,
      "metadata": {
        "colab": {
          "base_uri": "https://localhost:8080/",
          "height": 37
        },
        "id": "lzCkTzpDrvpp",
        "outputId": "21277db1-bd07-44bc-8cde-5fa1ac23cf63"
      },
      "outputs": [
        {
          "output_type": "execute_result",
          "data": {
            "text/plain": [
              "8"
            ],
            "text/latex": "$\\displaystyle 8$"
          },
          "metadata": {},
          "execution_count": 26
        }
      ],
      "source": [
        "smp.Sum(6/4**n, (n,0,smp.oo)).doit()"
      ]
    },
    {
      "cell_type": "markdown",
      "metadata": {
        "id": "-NbE_tEkrvpq"
      },
      "source": [
        "$$ \\sum_{n=0}^\\infty \\frac{2^{n+1}}{5^n} $$"
      ]
    },
    {
      "cell_type": "code",
      "execution_count": 27,
      "metadata": {
        "colab": {
          "base_uri": "https://localhost:8080/",
          "height": 51
        },
        "id": "Q7n7hcK3rvpq",
        "outputId": "22c85284-a71d-4930-a846-33a729c3ae4b"
      },
      "outputs": [
        {
          "output_type": "execute_result",
          "data": {
            "text/plain": [
              "10/3"
            ],
            "text/latex": "$\\displaystyle \\frac{10}{3}$"
          },
          "metadata": {},
          "execution_count": 27
        }
      ],
      "source": [
        "smp.Sum(2**(n+1) / 5**n, (n,0,smp.oo)).doit()"
      ]
    },
    {
      "cell_type": "markdown",
      "metadata": {
        "id": "Xl4VdEr3rvpr"
      },
      "source": [
        "$$ \\sum_{n=1}^{\\infty} \\frac{\\tan^{-1}(n)}{n^{1.1}} $$"
      ]
    },
    {
      "cell_type": "code",
      "execution_count": 28,
      "metadata": {
        "colab": {
          "base_uri": "https://localhost:8080/",
          "height": 66
        },
        "id": "natax3Jnrvps",
        "outputId": "658b5fcb-e06d-4930-f7c1-f4de66305195"
      },
      "outputs": [
        {
          "output_type": "execute_result",
          "data": {
            "text/plain": [
              "Sum(atan(n)/n**(11/10), (n, 1, oo))"
            ],
            "text/latex": "$\\displaystyle \\sum_{n=1}^{\\infty} \\frac{\\operatorname{atan}{\\left(n \\right)}}{n^{\\frac{11}{10}}}$"
          },
          "metadata": {},
          "execution_count": 28
        }
      ],
      "source": [
        "smp.Sum(smp.atan(n)/n**smp.Rational(11,10), (n,1,smp.oo)).doit()"
      ]
    },
    {
      "cell_type": "markdown",
      "metadata": {
        "id": "T90B07Ikrvpt"
      },
      "source": [
        "$$ \\sum_{n=1}^\\infty \\frac{1 + \\cos(n)}{n^2}$$"
      ]
    },
    {
      "cell_type": "code",
      "execution_count": 29,
      "metadata": {
        "colab": {
          "base_uri": "https://localhost:8080/",
          "height": 37
        },
        "id": "FFLQkzOKrvpu",
        "outputId": "8b2fe9ac-ed50-461c-b775-79ba8ad8bf4b"
      },
      "outputs": [
        {
          "output_type": "execute_result",
          "data": {
            "text/plain": [
              "1.969"
            ],
            "text/latex": "$\\displaystyle 1.969$"
          },
          "metadata": {},
          "execution_count": 29
        }
      ],
      "source": [
        "smp.Sum((1+smp.cos(n))/n**2, (n,1,smp.oo)).n()"
      ]
    }
  ],
  "metadata": {
    "kernelspec": {
      "display_name": "Python 3",
      "language": "python",
      "name": "python3"
    },
    "language_info": {
      "codemirror_mode": {
        "name": "ipython",
        "version": 3
      },
      "file_extension": ".py",
      "mimetype": "text/x-python",
      "name": "python",
      "nbconvert_exporter": "python",
      "pygments_lexer": "ipython3",
      "version": "3.6.9"
    },
    "colab": {
      "provenance": [],
      "include_colab_link": true
    }
  },
  "nbformat": 4,
  "nbformat_minor": 0
}