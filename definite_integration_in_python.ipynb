{
  "nbformat": 4,
  "nbformat_minor": 0,
  "metadata": {
    "colab": {
      "provenance": [],
      "authorship_tag": "ABX9TyMIM/qe4gTKHEscTVUEh8Bl",
      "include_colab_link": true
    },
    "kernelspec": {
      "name": "python3",
      "display_name": "Python 3"
    },
    "language_info": {
      "name": "python"
    }
  },
  "cells": [
    {
      "cell_type": "markdown",
      "metadata": {
        "id": "view-in-github",
        "colab_type": "text"
      },
      "source": [
        "<a href=\"https://colab.research.google.com/github/ft10101/maths-using-python/blob/main/definite_integration_in_python.ipynb\" target=\"_parent\"><img src=\"https://colab.research.google.com/assets/colab-badge.svg\" alt=\"Open In Colab\"/></a>"
      ]
    },
    {
      "cell_type": "markdown",
      "source": [
        "# **Packages used in this code**\n",
        "## 1. **NumPy** (Numeric Python) package :  \n",
        "#### provides basic functions for manipulating large arrays and matrices of numeric data\n",
        "## 2. **SciPy** (Scientific Python) package :\n",
        "#### extends the functionality of NumPy and uses NumPy arrays as the basic data structure\n",
        "#### SciPy - Integration (**scipy.integrate**):\n",
        "- Numerical integration is the approximate computation of an integral using numerical techniques\n",
        "- Methods for integrating functions given function object\n",
        "  1.   **quad** - General purpose integration\n",
        "  2.   **dblquad** - General purpose double integration\n",
        "  3.   **nqad** - General purpose n-fold integration\n",
        "\n",
        "<br>\n",
        "\n",
        "**Note:** In the below code the solutions are printed without their estimated errors by using their index i.e \" result[0] \", if you want to print estimated error remove index [0] from the result variable."
      ],
      "metadata": {
        "id": "yIUaJF6kqlKE"
      }
    },
    {
      "cell_type": "code",
      "source": [
        "import numpy as np\n",
        "import scipy.integrate as integrate\n",
        "\n",
        "from scipy.integrate import quad\n",
        "from scipy.integrate import dblquad\n",
        "from scipy.integrate import nquad"
      ],
      "metadata": {
        "id": "iDM1SXoHGC7p"
      },
      "execution_count": 1,
      "outputs": []
    },
    {
      "cell_type": "markdown",
      "source": [
        "# **scipy.integrate.quad(func, a, b)**\n",
        "\n",
        "Compute a definite integral of func from limits a to b\n",
        "\n",
        "Returns two values:\n",
        "  1. value of integral\n",
        "  2. estimate of absolute error of the integral"
      ],
      "metadata": {
        "id": "_nS8OVz2HIGI"
      }
    },
    {
      "cell_type": "markdown",
      "source": [
        "#**Example 1 :** Integration of definite integral of x from 0 to 2\n",
        "## **∫ x dx = .. ?**"
      ],
      "metadata": {
        "id": "rNsmLZRYKyyJ"
      }
    },
    {
      "cell_type": "code",
      "source": [
        "# defining function \" f(x) = x \"\n",
        "def f(x):\n",
        "  return x"
      ],
      "metadata": {
        "id": "mTpNIBFOGCwC"
      },
      "execution_count": 2,
      "outputs": []
    },
    {
      "cell_type": "code",
      "source": [
        "result1 = integrate.quad(f, 0, 2)"
      ],
      "metadata": {
        "id": "rB6QEosjGCjB"
      },
      "execution_count": 3,
      "outputs": []
    },
    {
      "cell_type": "code",
      "source": [
        "print(\"The integral of x from 0 to 2 is:\", result1[0])"
      ],
      "metadata": {
        "colab": {
          "base_uri": "https://localhost:8080/"
        },
        "id": "mA_BHOaoIC66",
        "outputId": "9cecbb7b-3c5a-484f-b999-0b5c4b678028"
      },
      "execution_count": 4,
      "outputs": [
        {
          "output_type": "stream",
          "name": "stdout",
          "text": [
            "The integral of x from 0 to 2 is: 2.0\n"
          ]
        }
      ]
    },
    {
      "cell_type": "markdown",
      "source": [
        "#**Example 2 :** Integration of definite integral of sin(x) from 0 to 1\n",
        "## **∫ sin(x) = ?**"
      ],
      "metadata": {
        "id": "t3Fc5d04OtzX"
      }
    },
    {
      "cell_type": "code",
      "source": [
        "# defining function \" f(x) = sin(x) \"\n",
        "def f(x):\n",
        "  return np.sin(x)"
      ],
      "metadata": {
        "id": "VmTGJHrZQ6I9"
      },
      "execution_count": 5,
      "outputs": []
    },
    {
      "cell_type": "code",
      "source": [
        "lower_limit = 0\n",
        "upper_limit = 1"
      ],
      "metadata": {
        "id": "XIadj67SQ_-F"
      },
      "execution_count": 6,
      "outputs": []
    },
    {
      "cell_type": "code",
      "source": [
        "result2 = integrate.quad(f, lower_limit, upper_limit)"
      ],
      "metadata": {
        "id": "2oxC4XmYRCZY"
      },
      "execution_count": 7,
      "outputs": []
    },
    {
      "cell_type": "code",
      "source": [
        "print(\"The definite integral of sin(x) from 0 to 1 is:\", result2[0])"
      ],
      "metadata": {
        "colab": {
          "base_uri": "https://localhost:8080/"
        },
        "id": "1CMPkx8CRIQV",
        "outputId": "295bed4d-ebd1-4be0-d4ff-6ba982f95d0f"
      },
      "execution_count": 8,
      "outputs": [
        {
          "output_type": "stream",
          "name": "stdout",
          "text": [
            "The definite integral of sin(x) from 0 to 1 is: 0.45969769413186023\n"
          ]
        }
      ]
    },
    {
      "cell_type": "markdown",
      "source": [
        "#**Example 3 :** Integration of definite integral of e^x from 0 to 1\n",
        "## **∫ e^x dx = .. ?**"
      ],
      "metadata": {
        "id": "CohKiAilXDPK"
      }
    },
    {
      "cell_type": "code",
      "source": [
        "# defining function \" f(x) = e^x \"\n",
        "def f(x):\n",
        "  return np.exp(x)"
      ],
      "metadata": {
        "id": "rwOpvfYRXQvG"
      },
      "execution_count": 9,
      "outputs": []
    },
    {
      "cell_type": "code",
      "source": [
        "lower_limit = 0\n",
        "upper_limit = 1"
      ],
      "metadata": {
        "id": "MXKbA7nKXUWA"
      },
      "execution_count": 10,
      "outputs": []
    },
    {
      "cell_type": "code",
      "source": [
        "result3 = integrate.quad(f, lower_limit, upper_limit)"
      ],
      "metadata": {
        "id": "SzZZLOE3XZlo"
      },
      "execution_count": 11,
      "outputs": []
    },
    {
      "cell_type": "code",
      "source": [
        "print(\"The definite integral of e^x from 0 to 1 is:\", result3[0])"
      ],
      "metadata": {
        "colab": {
          "base_uri": "https://localhost:8080/"
        },
        "id": "CpnA5_d_phnT",
        "outputId": "7031e322-4354-4388-9d05-b50824795052"
      },
      "execution_count": 12,
      "outputs": [
        {
          "output_type": "stream",
          "name": "stdout",
          "text": [
            "The definite integral of e^x from 0 to 1 is: 1.7182818284590453\n"
          ]
        }
      ]
    },
    {
      "cell_type": "markdown",
      "source": [
        "# **scipy.integrate.dblquad(func, a, b, g, h)**\n",
        "### Computes a double integral of func(x,y) over the region defined by the limits\n",
        "## a <= x <= b and g <= y <= h.\n",
        "### Returns two values:\n",
        "   1. value of integral\n",
        "   2. estimate of absolute error of the integral"
      ],
      "metadata": {
        "id": "1Tpj76IHah00"
      }
    },
    {
      "cell_type": "markdown",
      "source": [
        "#**Example 4 :** Integration of definite integral of x^2 from 0 to 1 and y^2 from 0 to 1\n",
        "## **∫∫ x^2 y^2 dx dy = .. ?**"
      ],
      "metadata": {
        "id": "oIi-sqiccDTA"
      }
    },
    {
      "cell_type": "code",
      "source": [
        "# defining function \" f(x,y) = x^2 y^2 \"\n",
        "def f(x, y):\n",
        "  return x**2 * y**2"
      ],
      "metadata": {
        "id": "rij0jqWycJyJ"
      },
      "execution_count": 13,
      "outputs": []
    },
    {
      "cell_type": "code",
      "source": [
        "lower_limit_x = 0\n",
        "upper_limit_x = 1\n",
        "lower_limit_y = 0\n",
        "upper_limit_y = 1"
      ],
      "metadata": {
        "id": "b4kDv_-ccM0e"
      },
      "execution_count": 14,
      "outputs": []
    },
    {
      "cell_type": "code",
      "source": [
        "result4 = integrate.dblquad(f, lower_limit_x, upper_limit_x, lower_limit_y, upper_limit_y)"
      ],
      "metadata": {
        "id": "hYMB3XnncR9c"
      },
      "execution_count": 15,
      "outputs": []
    },
    {
      "cell_type": "code",
      "source": [
        "print(\"The double integral of x^2 y^2 from 0 to 1 and 0 to 1 is:\", result4[0])"
      ],
      "metadata": {
        "colab": {
          "base_uri": "https://localhost:8080/"
        },
        "id": "rBhYbyR4cXfU",
        "outputId": "b39fa257-846d-4c7b-a132-3fcf0452a357"
      },
      "execution_count": 16,
      "outputs": [
        {
          "output_type": "stream",
          "name": "stdout",
          "text": [
            "The double integral of x^2 y^2 from 0 to 1 and 0 to 1 is: 0.11111111111111113\n"
          ]
        }
      ]
    },
    {
      "cell_type": "markdown",
      "source": [
        "#**Example 5 :** Integration of definite integral of sin(x) from 0 to 1 and cos(y) from 0 to 1\n",
        "## **∫∫ sin(x) cos(y) dx dy = .. ?**"
      ],
      "metadata": {
        "id": "EiSA7Lekc9U8"
      }
    },
    {
      "cell_type": "code",
      "source": [
        "# defining function \" f(x,y) = sin(x) cos(y) \"\n",
        "def f(x, y):\n",
        "  return np.sin(x) * np.cos(y)"
      ],
      "metadata": {
        "id": "WGpRxpEtdEZL"
      },
      "execution_count": 17,
      "outputs": []
    },
    {
      "cell_type": "code",
      "source": [
        "lower_limit_x = 0\n",
        "upper_limit_x = 1\n",
        "lower_limit_y = 0\n",
        "upper_limit_y = 1"
      ],
      "metadata": {
        "id": "2Y0txp3BdHtw"
      },
      "execution_count": 18,
      "outputs": []
    },
    {
      "cell_type": "code",
      "source": [
        "result5 = integrate.dblquad(f, lower_limit_x, upper_limit_x, lower_limit_y, upper_limit_y)"
      ],
      "metadata": {
        "id": "70FlCwOKdJvY"
      },
      "execution_count": 19,
      "outputs": []
    },
    {
      "cell_type": "code",
      "source": [
        "print(\"The double integral of sin(x) cos(y) from 0 to 1 and 0 to 1 is:\", result5[0])"
      ],
      "metadata": {
        "colab": {
          "base_uri": "https://localhost:8080/"
        },
        "id": "C_1qIptsdOj6",
        "outputId": "bb8bb517-8027-430c-9ebf-e770e0df8ea7"
      },
      "execution_count": 20,
      "outputs": [
        {
          "output_type": "stream",
          "name": "stdout",
          "text": [
            "The double integral of sin(x) cos(y) from 0 to 1 and 0 to 1 is: 0.38682227139505565\n"
          ]
        }
      ]
    },
    {
      "cell_type": "markdown",
      "source": [
        "#**Example 6 :** Integration of definite integral of e^x from 0 to 1 and e^y from 0 to 1\n",
        "## **∫∫ e^x e^y dx dy = .. ?**"
      ],
      "metadata": {
        "id": "sGElilpzdhJk"
      }
    },
    {
      "cell_type": "code",
      "source": [
        "# defining function \" f(x,y) = e^x e^y \"\n",
        "def f(x, y):\n",
        "  return np.exp(x) * np.exp(y)"
      ],
      "metadata": {
        "id": "GjrulVicdgtS"
      },
      "execution_count": 21,
      "outputs": []
    },
    {
      "cell_type": "code",
      "source": [
        "lower_limit_x = 0\n",
        "upper_limit_x = 1\n",
        "lower_limit_y = 0\n",
        "upper_limit_y = 1"
      ],
      "metadata": {
        "id": "pyNv3dtfdnEh"
      },
      "execution_count": 22,
      "outputs": []
    },
    {
      "cell_type": "code",
      "source": [
        "result6 = integrate.dblquad(f, lower_limit_x, upper_limit_x, lower_limit_y, upper_limit_y)"
      ],
      "metadata": {
        "id": "QtPPmDtMdqbZ"
      },
      "execution_count": 23,
      "outputs": []
    },
    {
      "cell_type": "code",
      "source": [
        "print(\"The double integral of e^x e^y from 0 to 1 and 0 to 1 is:\", result6[0])"
      ],
      "metadata": {
        "colab": {
          "base_uri": "https://localhost:8080/"
        },
        "id": "h9QOboFadstR",
        "outputId": "7bedf204-6773-4af4-a633-e81e0b281024"
      },
      "execution_count": 24,
      "outputs": [
        {
          "output_type": "stream",
          "name": "stdout",
          "text": [
            "The double integral of e^x e^y from 0 to 1 and 0 to 1 is: 2.95249244201256\n"
          ]
        }
      ]
    },
    {
      "cell_type": "markdown",
      "source": [
        "# **scipy.integrate.nquad(func, ranges)**\n",
        "### Compute an n-fold integral of func over the region defined by the ranges.\n",
        "### Returns two values:\n",
        "   1. value of integral\n",
        "   2. estimate of absolute error of the integral"
      ],
      "metadata": {
        "id": "K8oeyHP3gPrF"
      }
    },
    {
      "cell_type": "markdown",
      "source": [
        "#**Example 7 :** Integration of definite integral of x^2 from 0 to 1 and y^2 from 0 to 1 and z^2 from 0 to 1\n",
        "## **∫∫∫ x^2 y^2 z^2 dx dy dz = .. ?**"
      ],
      "metadata": {
        "id": "tEszGl7QgZ3J"
      }
    },
    {
      "cell_type": "code",
      "source": [
        "# defining function \" f(x,y,z) = x^2 y^2 z^2 \"\n",
        "def f(x, y, z):\n",
        "  return x**2 * y**2 * z**2"
      ],
      "metadata": {
        "id": "zno6GR01gmW4"
      },
      "execution_count": 25,
      "outputs": []
    },
    {
      "cell_type": "code",
      "source": [
        "ranges7 = [(0, 1), (0, 1), (0, 1)]\n",
        "result7 = integrate.nquad(f, ranges7)"
      ],
      "metadata": {
        "id": "iQEbOUPXgqY0"
      },
      "execution_count": 26,
      "outputs": []
    },
    {
      "cell_type": "code",
      "source": [
        "print(\"The triple integral of x^2 y^2 z^2 from 0 to 1 and 0 to 1 and 0 to 1 is:\", result7[0])"
      ],
      "metadata": {
        "colab": {
          "base_uri": "https://localhost:8080/"
        },
        "id": "AB-Ev091guVD",
        "outputId": "1e27d60d-8f69-425a-d0f5-cdba0ae9cee6"
      },
      "execution_count": 27,
      "outputs": [
        {
          "output_type": "stream",
          "name": "stdout",
          "text": [
            "The triple integral of x^2 y^2 z^2 from 0 to 1 and 0 to 1 and 0 to 1 is: 0.037037037037037035\n"
          ]
        }
      ]
    },
    {
      "cell_type": "markdown",
      "source": [
        "#**Example 8 :** Integration of definite integral of sin(x) from 0 to 1 and cos(y) from 0 to 1 and tan(z) from 0 to 1\n",
        "## **∫∫∫ sin(x) cos(y) tan(z) dx dy dz = .. ?**"
      ],
      "metadata": {
        "id": "F5eHMclhg40E"
      }
    },
    {
      "cell_type": "code",
      "source": [
        "# defining function \" f(x,y,z) = sin(x) cos(y) tan(z) \"\n",
        "def f(x, y, z):\n",
        "  return np.sin(x) * np.cos(y) * np.tan(z)"
      ],
      "metadata": {
        "id": "eg-Gub4OhDiQ"
      },
      "execution_count": 28,
      "outputs": []
    },
    {
      "cell_type": "code",
      "source": [
        "ranges8 = [(0, 1), (0, 1), (0, 1)]\n",
        "result8 = integrate.nquad(f, ranges8)"
      ],
      "metadata": {
        "id": "FPbuqk7ZhGYE"
      },
      "execution_count": 29,
      "outputs": []
    },
    {
      "cell_type": "code",
      "source": [
        "print(\"The triple integral of sin(x) cos(y) tan(z) from 0 to 1 and 0 to 1 and 0 to 1 is:\", result8[0])"
      ],
      "metadata": {
        "colab": {
          "base_uri": "https://localhost:8080/"
        },
        "id": "c2b2mpxXhKUP",
        "outputId": "8581ea1b-8770-4f8b-d3d9-5a7523d96c8e"
      },
      "execution_count": 30,
      "outputs": [
        {
          "output_type": "stream",
          "name": "stdout",
          "text": [
            "The triple integral of sin(x) cos(y) tan(z) from 0 to 1 and 0 to 1 and 0 to 1 is: 0.23813802960563904\n"
          ]
        }
      ]
    },
    {
      "cell_type": "markdown",
      "source": [
        "#**Example 9 :** Integration of definite integral of e^x from 0 to 1 and e^y from 0 to 1 and e^z from 0 to 1\n",
        "## **∫∫∫ e^x e^y e^z dx dy dz = .. ?**"
      ],
      "metadata": {
        "id": "aRlXS-yUhhvL"
      }
    },
    {
      "cell_type": "code",
      "source": [
        "# defining function \" f(x,y,z) = e^x e^y e^z \"\n",
        "def f(x, y, z):\n",
        "  return np.exp(x) * np.exp(y) * np.exp(z)"
      ],
      "metadata": {
        "id": "5KF_1Z9shou_"
      },
      "execution_count": 31,
      "outputs": []
    },
    {
      "cell_type": "code",
      "source": [
        "ranges9 = [(0, 1), (0, 1), (0, 1)]\n",
        "result9 = integrate.nquad(f, ranges9)"
      ],
      "metadata": {
        "id": "o-YbBWHyhrPT"
      },
      "execution_count": 32,
      "outputs": []
    },
    {
      "cell_type": "code",
      "source": [
        "print(\"The triple integral of e^x e^y e^z from 0 to 1 and 0 to 1 and 0 to 1 is:\", result9[0])"
      ],
      "metadata": {
        "colab": {
          "base_uri": "https://localhost:8080/"
        },
        "id": "OhhZRKrtag21",
        "outputId": "0a4932ee-8e6b-404d-b37c-cd3977c30782"
      },
      "execution_count": 33,
      "outputs": [
        {
          "output_type": "stream",
          "name": "stdout",
          "text": [
            "The triple integral of e^x e^y e^z from 0 to 1 and 0 to 1 and 0 to 1 is: 5.073214111772854\n"
          ]
        }
      ]
    }
  ]
}